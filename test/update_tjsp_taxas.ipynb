{
 "cells": [
  {
   "cell_type": "markdown",
   "id": "ccb68460-efc0-4b60-b53f-301fa1cc37d6",
   "metadata": {
    "tags": [
     "remove_cell"
    ]
   },
   "source": [
    "<br>\n",
    "\n",
    "# TJSP"
   ]
  },
  {
   "cell_type": "code",
   "execution_count": null,
   "id": "d3cfb4b4-af9d-4915-b349-d10cd723085b",
   "metadata": {},
   "outputs": [],
   "source": [
    "import os\n",
    "import tabula\n",
    "import requests\n",
    "import pandas as pd\n",
    "from io import BytesIO"
   ]
  },
  {
   "cell_type": "code",
   "execution_count": null,
   "id": "f38f45f1-627f-49c8-bb7b-9e3f97ba5d07",
   "metadata": {},
   "outputs": [],
   "source": [
    "def create_dataframe_tjsp_debitos(input_path):\n",
    "    # Requests\n",
    "    url = 'https://www.tjsp.jus.br/Download/Tabelas/TabelaDebitosJudiciais.pdf'\n",
    "    r = requests.get(url, allow_redirects=True)\n",
    "\n",
    "    # Save PDF file\n",
    "    open(os.path.join(input_path, 'tabela_debitos_judiciais.pdf'), 'wb').write(r.content)\n",
    "\n",
    "    # Read PDF\n",
    "    #dfs = tabula.read_pdf(os.path.join('data', 'tab_tjsp.pdf'), pages='all')\n",
    "    dfs = tabula.read_pdf(BytesIO(r.content), pages='all')\n",
    "\n",
    "    # Loop\n",
    "    df_concat = pd.DataFrame()\n",
    "    for n in range(len(dfs)):\n",
    "        df = dfs[n]\n",
    "        df.rename(columns={'Unnamed: 0': 'mes'}, inplace=True, errors='ignore')\n",
    "        df.set_index('mes', inplace=True)\n",
    "        df.drop('Unnamed: 1', axis=1, inplace=True, errors='ignore')\n",
    "        df_concat = pd.concat([df_concat, df], axis=1)\n",
    "\n",
    "    # Flat Dataframe\n",
    "    df = df_concat\n",
    "    df = df.stack()\n",
    "    df = pd.DataFrame(df)\n",
    "    df = df.reset_index()\n",
    "\n",
    "    # Rename Columns\n",
    "    df.rename(columns={'level_1': 'ano', 0: 'taxa'}, inplace=True, errors='ignore')\n",
    "\n",
    "    # Rename Values\n",
    "    dict_mes = {\n",
    "        'JAN': 1,\n",
    "        'FEV': 2, \n",
    "        'MAR': 3,\n",
    "        'ABR': 4,\n",
    "        'MAI': 5,\n",
    "        'JUN': 6,\n",
    "        'JUL': 7,\n",
    "        'AGO': 8,\n",
    "        'SET': 9,\n",
    "        'OUT': 10,\n",
    "        'NOV': 11,\n",
    "        'DEZ': 12,\n",
    "    }\n",
    "\n",
    "    # Ajusta Mês\n",
    "    df = df.replace({'mes': dict_mes})\n",
    "    df['mes'] = df['mes'].astype(int)\n",
    "\n",
    "    # Ajusta Ano\n",
    "    df['ano'] = df['ano'].str.replace(' ', '')\n",
    "    df['ano'] = df['ano'].astype(int)\n",
    "\n",
    "    # Ajusta Taxa\n",
    "    df['taxa_string'] = df['taxa']\n",
    "    df['taxa'] = df['taxa'].str.replace('-', '', regex=True)\n",
    "    df['taxa'] = df['taxa'].str.replace('.', '', regex=True)\n",
    "    df['taxa'] = df['taxa'].str.replace(',', '.', regex=True)\n",
    "    df = df[df['taxa'] != '']\n",
    "    df['taxa'] = df['taxa'].astype(float).copy()\n",
    "\n",
    "    # Ajusta Datas\n",
    "    df['year'] = df['ano']\n",
    "    df['month'] = df['mes']\n",
    "    df['day'] = 1\n",
    "\n",
    "    df['data'] = pd.to_datetime(df[['year', 'month', 'day']])\n",
    "    df['data_ref'] = df['data'].dt.strftime('%Y-%m')\n",
    "\n",
    "    # Drop\n",
    "    df.drop(['year', 'month', 'day'], axis=1, inplace=True, errors='ignore')\n",
    "\n",
    "    # Sortear\n",
    "    df.sort_values('data', inplace=True)\n",
    "    df = df.reindex(columns=['data', 'data_ref', 'ano', 'mes', 'taxa_string', 'taxa'], copy=True)\n",
    "    df.reset_index(drop=True, inplace=True)\n",
    "\n",
    "    print(df.tail(3))\n",
    "    return df"
   ]
  },
  {
   "cell_type": "code",
   "execution_count": null,
   "id": "79053841-a13d-4d4b-9db0-f6d5f3e16484",
   "metadata": {
    "tags": [
     "remove_cell"
    ]
   },
   "outputs": [],
   "source": [
    "# Create Directory and Save file\n",
    "input_path = os.path.join('..', 'data')\n",
    "os.makedirs(input_path, exist_ok=True)\n",
    "\n",
    "# Create Dataframe\n",
    "df = create_dataframe_tjsp_debitos(input_path)\n",
    "\n",
    "# Save \"tabela_debitos_judiciais\"\n",
    "df.to_csv(\n",
    "    os.path.join(input_path, 'tabela_debitos_judiciais.csv'),\n",
    "    index=False,\n",
    "    decimal=',',\n",
    ")"
   ]
  },
  {
   "cell_type": "markdown",
   "id": "10362c33",
   "metadata": {
    "tags": [
     "remove_cell"
    ]
   },
   "source": [
    "<br>\n",
    "\n",
    "# Export"
   ]
  },
  {
   "cell_type": "code",
   "execution_count": 1,
   "id": "7a6d7128",
   "metadata": {
    "tags": [
     "remove_cell"
    ]
   },
   "outputs": [],
   "source": [
    "import os\n",
    "from traitlets.config import Config\n",
    "from nbconvert import PythonExporter\n",
    "from nbconvert.preprocessors import TagRemovePreprocessor"
   ]
  },
  {
   "cell_type": "code",
   "execution_count": 2,
   "id": "fa84e966",
   "metadata": {
    "tags": [
     "remove_cell"
    ]
   },
   "outputs": [],
   "source": [
    "filename = 'update_tjsp_taxas.ipynb'\n",
    "notebook = os.path.join(os.getcwd(), filename)"
   ]
  },
  {
   "cell_type": "code",
   "execution_count": 3,
   "id": "2a7b15cc",
   "metadata": {
    "tags": [
     "remove_cell"
    ]
   },
   "outputs": [],
   "source": [
    "# Import the exporter\n",
    "c = Config()\n",
    "c.TagRemovePreprocessor.enabled=True\n",
    "c.ClearOutputPreprocessor.enabled=True\n",
    "c.TemplateExporter.exclude_markdown=True\n",
    "c.TemplateExporter.exclude_code_cell=False\n",
    "c.TemplateExporter.exclude_input_prompt=True \n",
    "c.TemplateExporter.exclude_output=True\n",
    "c.TemplateExporter.exclude_raw=True\n",
    "c.TagRemovePreprocessor.remove_cell_tags = ('remove_cell',)\n",
    "c.TagRemovePreprocessor.remove_input_tags = ('remove_cell',)\n",
    "c.TagRemovePreprocessor.remove_all_outputs_tags = ('remove_output',)\n",
    "c.preprocessors = ['TagRemovePreprocessor']\n",
    "c.PythonExporter.preprocessors = ['nbconvert.preprocessors.TagRemovePreprocessor']\n",
    "\n",
    "# Configure and run out exporter\n",
    "py_exporter = PythonExporter(config=c)\n",
    "py_exporter.register_preprocessor(TagRemovePreprocessor(config=c), True)\n",
    "\n",
    "# Configure and run out exporter - returns a tuple - first element with html, second with notebook metadata\n",
    "body, metadata = PythonExporter(config=c).from_filename(notebook)\n",
    "\n",
    "# Write to output html file\n",
    "with open(os.path.join('..', 'src', 'update_tjsp_taxas.py'),  'w', encoding='utf-8') as f:\n",
    "    f.write(body)"
   ]
  },
  {
   "cell_type": "code",
   "execution_count": null,
   "id": "e2668094",
   "metadata": {
    "tags": [
     "remove_cell"
    ]
   },
   "outputs": [],
   "source": []
  },
  {
   "cell_type": "code",
   "execution_count": null,
   "id": "d000c209-5d4e-491c-b119-f4c0129693e9",
   "metadata": {
    "tags": [
     "remove_cell"
    ]
   },
   "outputs": [],
   "source": []
  }
 ],
 "metadata": {
  "interpreter": {
   "hash": "4ca53273bccc509d92f2ed5b08260ceb7d52f3e4007d7c63cf79732e5275040a"
  },
  "kernelspec": {
   "display_name": "Python 3 (ipykernel)",
   "language": "python",
   "name": "python3"
  },
  "language_info": {
   "codemirror_mode": {
    "name": "ipython",
    "version": 3
   },
   "file_extension": ".py",
   "mimetype": "text/x-python",
   "name": "python",
   "nbconvert_exporter": "python",
   "pygments_lexer": "ipython3",
   "version": "3.9.7"
  }
 },
 "nbformat": 4,
 "nbformat_minor": 5
}
