{
 "cells": [
  {
   "cell_type": "markdown",
   "id": "ccb68460-efc0-4b60-b53f-301fa1cc37d6",
   "metadata": {},
   "source": [
    "<br>\n",
    "\n",
    "# TJSP"
   ]
  },
  {
   "cell_type": "code",
   "execution_count": null,
   "id": "d3cfb4b4-af9d-4915-b349-d10cd723085b",
   "metadata": {},
   "outputs": [],
   "source": [
    "import os\n",
    "import tabula\n",
    "import requests\n",
    "import pandas as pd\n",
    "from io import BytesIO"
   ]
  },
  {
   "cell_type": "code",
   "execution_count": null,
   "id": "453db9ed-cdee-474e-bec0-3a08408428c9",
   "metadata": {},
   "outputs": [],
   "source": [
    "# URL to Download\n",
    "url = 'https://www.tjsp.jus.br/Download/Tabelas/TabelaDebitosJudiciais.pdf'\n",
    "\n",
    "# Requests\n",
    "r = requests.get(url, allow_redirects=True)"
   ]
  },
  {
   "cell_type": "code",
   "execution_count": null,
   "id": "89e0082f-cafd-406e-8063-f583034dc11f",
   "metadata": {},
   "outputs": [],
   "source": [
    "# Create Directory and Save file\n",
    "os.makedirs('data', exist_ok=True)\n",
    "open(os.path.join('data', 'tab_tjsp.pdf'), 'wb').write(r.content)"
   ]
  },
  {
   "cell_type": "code",
   "execution_count": null,
   "id": "394a0f34-328c-4f25-9e48-e1a1cd76af9d",
   "metadata": {},
   "outputs": [],
   "source": [
    "# Read pdf\n",
    "#dfs = tabula.read_pdf(os.path.join('data', 'tab_tjsp.pdf'), pages='all')\n",
    "dfs = tabula.read_pdf(BytesIO(r.content), pages='all')\n",
    "\n",
    "# Loop\n",
    "df_concat = pd.DataFrame()\n",
    "for n in range(len(dfs)):\n",
    "    df = dfs[n]\n",
    "    df.rename(columns={'Unnamed: 0': 'mes'}, inplace=True, errors='ignore')\n",
    "    df.set_index('mes', inplace=True)\n",
    "    df.drop('Unnamed: 1', axis=1, inplace=True, errors='ignore')\n",
    "    df_concat = pd.concat([df_concat, df], axis=1)\n",
    "\n",
    "# Flat Dataframe\n",
    "df = df_concat\n",
    "df = df.stack()\n",
    "df = pd.DataFrame(df)\n",
    "df = df.reset_index()\n",
    "\n",
    "# Rename Columns\n",
    "df.rename(columns={'level_1': 'ano', 0: 'taxa'}, inplace=True, errors='ignore')\n",
    "\n",
    "# Rename Values\n",
    "dict_mes = {\n",
    "    'JAN': 1,\n",
    "    'FEV': 2, \n",
    "    'MAR': 3,\n",
    "    'ABR': 4,\n",
    "    'MAI': 5,\n",
    "    'JUN': 6,\n",
    "    'JUL': 7,\n",
    "    'AGO': 8,\n",
    "    'SET': 9,\n",
    "    'OUT': 10,\n",
    "    'NOV': 11,\n",
    "    'DEZ': 12,\n",
    "}\n",
    "\n",
    "# Ajusta Mês\n",
    "df = df.replace({'mes': dict_mes})\n",
    "df['mes'] = df['mes'].astype(int)\n",
    "\n",
    "# Ajusta Ano\n",
    "df['ano'] = df['ano'].str.replace(' ', '')\n",
    "df['ano'] = df['ano'].astype(int)\n",
    "\n",
    "# Ajusta Taxa\n",
    "df['taxa_string'] = df['taxa']\n",
    "df['taxa'] = df['taxa'].str.replace('-', '', regex=True)\n",
    "df['taxa'] = df['taxa'].str.replace('.', '', regex=True)\n",
    "df['taxa'] = df['taxa'].str.replace(',', '.', regex=True)\n",
    "df = df[df['taxa'] != '']\n",
    "df['taxa'] = df['taxa'].astype(float).copy()\n",
    "\n",
    "# Ajusta Datas\n",
    "df['year'] = df['ano']\n",
    "df['month'] = df['mes']\n",
    "df['day'] = 1\n",
    "\n",
    "df['data'] = pd.to_datetime(df[['year', 'month', 'day']])\n",
    "df['data_ref'] = df['data'].dt.strftime('%Y-%m')\n",
    "\n",
    "# Drop\n",
    "df.drop(['year', 'month', 'day'], axis=1, inplace=True, errors='ignore')\n",
    "\n",
    "# Sortear\n",
    "df.sort_values('data', inplace=True)\n",
    "df = df.reindex(['data', 'data_ref', 'ano', 'mes', 'taxa_string', 'taxa'], axis=1)\n",
    "df.reset_index(inplace=True)\n",
    "\n",
    "# Drop\n",
    "df.drop('index', axis=1, inplace=True, errors='ignore')\n",
    "\n",
    "# Save\n",
    "df.to_csv(\n",
    "    os.path.join('data', 'tab_tjsp.csv'),\n",
    "    index=False,\n",
    "    decimal=',',\n",
    ")\n",
    "\n",
    "# Results\n",
    "print(df.dtypes)\n",
    "display(df)"
   ]
  },
  {
   "cell_type": "code",
   "execution_count": null,
   "id": "13f71f56-4ec4-48a3-8fa5-b22cc7078900",
   "metadata": {},
   "outputs": [],
   "source": [
    "from datetime import datetime\n",
    "\n",
    "dia = datetime.today()\n",
    "dia.strftime('%Y.%M.%d')"
   ]
  }
 ],
 "metadata": {
  "kernelspec": {
   "display_name": "Python [conda env:pablocarreira-py38] *",
   "language": "python",
   "name": "conda-env-pablocarreira-py38-py"
  },
  "language_info": {
   "codemirror_mode": {
    "name": "ipython",
    "version": 3
   },
   "file_extension": ".py",
   "mimetype": "text/x-python",
   "name": "python",
   "nbconvert_exporter": "python",
   "pygments_lexer": "ipython3",
   "version": "3.8.10"
  }
 },
 "nbformat": 4,
 "nbformat_minor": 5
}
